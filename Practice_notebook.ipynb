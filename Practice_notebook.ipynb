{
  "nbformat": 4,
  "nbformat_minor": 0,
  "metadata": {
    "colab": {
      "name": "Practice-notebook.ipynb",
      "provenance": []
    },
    "kernelspec": {
      "name": "python3",
      "display_name": "Python 3"
    },
    "language_info": {
      "name": "python"
    }
  },
  "cells": [
    {
      "cell_type": "code",
      "metadata": {
        "colab": {
          "base_uri": "https://localhost:8080/"
        },
        "id": "qcfpspPmzPPO",
        "outputId": "683e024b-2369-478c-a512-1945eddb644f"
      },
      "source": [
        "from google.colab import auth\n",
        "auth.authenticate_user()\n",
        "\n",
        "import gspread\n",
        "from oauth2client.client import GoogleCredentials\n",
        "\n",
        "gc = gspread.authorize(GoogleCredentials.get_application_default())\n",
        "\n",
        "worksheet = gc.open('callcenter-performance-data').sheet1\n",
        "\n",
        "# get_all_values gives a list of rows.\n",
        "rows = worksheet.get_all_values()\n",
        "print(rows)\n",
        "\n",
        "# Convert to a DataFrame and render.\n",
        "import pandas as pd"
      ],
      "execution_count": null,
      "outputs": [
        {
          "output_type": "stream",
          "text": [
            "[['Name', 'CSAT_Score', 'Customer_Effort_Score', 'Call_Time', 'First_call_resolution', 'Assigned_case', 'Customer_spend'], ['Remington', '0.9122172991', '1', '21', '1', '1', '1'], ['Philmore', '0.7365677728', '1', '19', '0', '0', '23'], ['Philmore', '0.04298081613', '3', '33', '1', '1', '20'], ['Briane', '0.915987319', '1', '39', '1', '0', '14'], ['Briane', '0.2753448925', '2', '11', '1', '0', '0'], ['Nicole', '0.7513552223', '1', '20', '1', '1', '30'], ['Shannon', '0.6161420256', '1', '42', '1', '1', '6'], ['Remington', '0.6729298547', '2', '13', '0', '1', '14'], ['Jonathin', '0.4599358034', '1', '44', '0', '0', '5'], ['Dr. Zaius', '0.02553672318', '1', '18', '0', '1', '2'], ['Philmore', '0.3868678978', '3', '33', '0', '1', '26'], ['Shannon', '0.6413503342', '2', '52', '0', '0', '14'], ['Shannon', '0.233811013', '1', '28', '1', '1', '3'], ['Remington', '0.2418294444', '2', '6', '0', '0', '12'], ['Briane', '0.07769543045', '1', '46', '1', '1', '10'], ['Jonathin', '0.7510037049', '1', '19', '0', '1', '28'], ['Dr. Zaius', '0.6896957158', '2', '36', '1', '0', '9'], ['Philmore', '0.9196208526', '1', '5', '1', '0', '30'], ['Briane', '0.6510018279', '2', '49', '0', '1', '23'], ['Remington', '0.04124328721', '2', '43', '0', '0', '17'], ['Remington', '0.2325401966', '2', '13', '0', '1', '29'], ['Dr. Zaius', '0.06242873484', '2', '5', '1', '0', '0'], ['Philmore', '0.7277584693', '3', '6', '0', '0', '3'], ['Philmore', '0.07796124467', '1', '37', '0', '1', '22'], ['Briane', '0.6630826279', '1', '19', '0', '1', '8'], ['Nicole', '0.290160763', '3', '59', '1', '0', '23'], ['Philmore', '0.9966461235', '1', '29', '1', '0', '16'], ['Jonathin', '0.6831633251', '2', '48', '0', '0', '17'], ['Dr. Zaius', '0.4322691538', '3', '26', '1', '1', '25'], ['Briane', '0.3064236883', '2', '25', '0', '1', '15'], ['Jonathin', '0.5304320446', '3', '40', '1', '1', '13'], ['Philmore', '0.5173698559', '1', '32', '1', '0', '9'], ['Nicole', '0.6772798884', '3', '10', '1', '0', '29'], ['Remington', '0.3450775492', '1', '13', '0', '1', '28'], ['Briane', '0.7907673339', '1', '39', '1', '1', '20'], ['Dr. Zaius', '0.3021047444', '1', '42', '1', '1', '12'], ['Jonathin', '0.0922916173', '1', '24', '1', '1', '3'], ['Nicole', '0.1904261865', '1', '51', '1', '0', '16'], ['Remington', '0.3730708824', '1', '7', '0', '0', '10'], ['Shannon', '0.3730549048', '2', '20', '1', '0', '23'], ['Jonathin', '0.03574131114', '3', '24', '0', '0', '28'], ['Nicole', '0.4718797962', '2', '41', '1', '0', '12'], ['Remington', '0.2199239068', '3', '58', '0', '1', '17'], ['Jonathin', '0.8140525096', '3', '3', '0', '1', '29'], ['Briane', '0.5307369816', '3', '29', '1', '1', '14'], ['Philmore', '0.1966213371', '1', '12', '1', '0', '8'], ['Nicole', '0.1144069737', '1', '46', '1', '1', '6'], ['Remington', '0.6378532518', '3', '54', '1', '1', '9'], ['Briane', '0.9763957206', '3', '45', '1', '1', '19'], ['Jonathin', '0.9027533309', '3', '3', '1', '0', '22'], ['Shannon', '0.7540693609', '2', '19', '1', '0', '6'], ['Shannon', '0.3517535622', '1', '2', '0', '1', '6'], ['Shannon', '0.4552710055', '2', '12', '0', '0', '18'], ['Dr. Zaius', '0.3905975186', '2', '5', '1', '1', '18'], ['Dr. Zaius', '0.6017279929', '2', '5', '1', '0', '4'], ['Dr. Zaius', '0.7744103484', '2', '50', '1', '1', '5'], ['Nicole', '0.4956644872', '1', '3', '0', '0', '12'], ['Nicole', '0.7212644376', '3', '9', '0', '1', '23'], ['Jonathin', '0.01105149267', '2', '51', '0', '1', '8'], ['Nicole', '0.154797342', '1', '58', '0', '0', '28'], ['Philmore', '0.02750043243', '3', '28', '0', '0', '27'], ['Philmore', '0.05930594004', '1', '55', '0', '1', '2'], ['Remington', '0.832892375', '2', '13', '1', '1', '20'], ['Dr. Zaius', '0.4850518253', '2', '41', '1', '0', '18'], ['Remington', '0.05657329876', '1', '16', '1', '0', '2'], ['Remington', '0.9802084557', '3', '29', '1', '1', '17'], ['Philmore', '0.8225884241', '2', '15', '1', '0', '7'], ['Briane', '0.3960365344', '2', '13', '0', '0', '27'], ['Nicole', '0.2743623294', '3', '17', '0', '0', '20'], ['Nicole', '0.06368068324', '2', '2', '0', '1', '23'], ['Jonathin', '0.6889618494', '1', '58', '0', '0', '15'], ['Jonathin', '0.1777612702', '2', '27', '1', '1', '4'], ['Jonathin', '0.4192393874', '3', '36', '0', '0', '16'], ['Remington', '0.9501341771', '2', '10', '1', '1', '14'], ['Remington', '0.5525030774', '3', '8', '1', '1', '5'], ['Briane', '0.2763794426', '1', '25', '1', '1', '9'], ['Remington', '0.7097794703', '1', '26', '0', '1', '12'], ['Nicole', '0.5504507643', '1', '18', '0', '1', '19'], ['Shannon', '0.9132330745', '2', '47', '0', '0', '24'], ['Nicole', '0.08529503248', '3', '24', '1', '1', '7'], ['Dr. Zaius', '0.08201556943', '1', '56', '0', '1', '22'], ['Philmore', '0.7680763262', '2', '55', '0', '1', '14'], ['Briane', '0.9679971744', '2', '56', '0', '0', '6'], ['Remington', '0.9699852586', '1', '45', '1', '1', '19'], ['Jonathin', '0.2798632429', '3', '35', '1', '1', '12'], ['Shannon', '0.917675323', '3', '41', '1', '0', '24'], ['Briane', '0.26244937', '3', '15', '1', '1', '18'], ['Briane', '0.2444656105', '1', '8', '1', '0', '1'], ['Jonathin', '0.07157211759', '3', '33', '1', '0', '30'], ['Briane', '0.006026281217', '1', '27', '1', '0', '23'], ['Remington', '0.2147460557', '1', '48', '0', '1', '25'], ['Jonathin', '0.2518931489', '3', '43', '0', '1', '3'], ['Jonathin', '0.9949450392', '2', '35', '1', '0', '17'], ['Philmore', '0.1785331114', '3', '17', '1', '1', '17'], ['Shannon', '0.005973828761', '1', '40', '0', '1', '8'], ['Briane', '0.7926246771', '1', '45', '1', '0', '13'], ['Shannon', '0.07019811292', '2', '1', '1', '0', '9'], ['Nicole', '0.9286731917', '3', '6', '1', '1', '22'], ['Briane', '0.6965954851', '1', '52', '0', '0', '27'], ['Jonathin', '0.8901171206', '1', '59', '1', '1', '18'], ['Nicole', '0.8617176173', '3', '4', '1', '1', '14'], ['Jonathin', '0.1178977561', '3', '34', '1', '0', '5'], ['Shannon', '0.1987051838', '2', '55', '0', '0', '20'], ['Nicole', '0.2883770215', '2', '30', '1', '1', '8'], ['Nicole', '0.1186030497', '2', '26', '1', '0', '5'], ['Philmore', '0.4599461054', '2', '34', '1', '1', '0'], ['Dr. Zaius', '0.9106418301', '2', '47', '1', '0', '11'], ['Nicole', '0.1342369956', '3', '31', '0', '1', '5'], ['Shannon', '0.9787674601', '2', '11', '0', '0', '22'], ['Remington', '0.8862298087', '1', '49', '1', '1', '7'], ['Philmore', '0.4035176594', '1', '33', '1', '1', '30'], ['Nicole', '0.01355682833', '3', '28', '1', '1', '2'], ['Philmore', '0.382500319', '1', '48', '0', '0', '16'], ['Jonathin', '0.1278888795', '1', '7', '0', '0', '26'], ['Jonathin', '0.538476733', '3', '24', '0', '1', '30'], ['Dr. Zaius', '0.8825175996', '2', '2', '1', '0', '20'], ['Nicole', '0.9087795523', '2', '43', '0', '0', '18'], ['Shannon', '0.925317051', '3', '48', '1', '1', '30'], ['Philmore', '0.789005729', '2', '16', '0', '0', '14'], ['Shannon', '0.4634972979', '3', '38', '1', '1', '21'], ['Briane', '0.7212536043', '2', '47', '0', '1', '26'], ['Jonathin', '0.5073985724', '3', '49', '1', '0', '19'], ['Remington', '0.3443775804', '1', '51', '1', '1', '7'], ['Shannon', '0.3595867559', '2', '39', '0', '0', '24'], ['Briane', '0.6906958631', '2', '23', '0', '1', '22'], ['Shannon', '0.3703941073', '3', '51', '1', '1', '9'], ['Nicole', '0.7783156857', '3', '24', '0', '0', '23'], ['Remington', '0.4826250189', '3', '13', '0', '0', '14'], ['Shannon', '0.04686767388', '2', '32', '0', '1', '23'], ['Dr. Zaius', '0.9303590673', '1', '14', '1', '0', '29'], ['Dr. Zaius', '0.6812251768', '1', '42', '1', '0', '25'], ['Dr. Zaius', '0.3867037645', '2', '45', '0', '1', '0'], ['Briane', '0.1051084844', '2', '25', '0', '0', '11'], ['Remington', '0.3231726146', '2', '55', '1', '1', '11'], ['Shannon', '0.6748445237', '3', '53', '1', '1', '2'], ['Philmore', '0.7524103003', '2', '4', '0', '0', '13'], ['Dr. Zaius', '0.7116043121', '3', '1', '0', '1', '21'], ['Dr. Zaius', '0.482700899', '2', '10', '1', '1', '15'], ['Dr. Zaius', '0.6549294315', '2', '31', '1', '1', '26'], ['Dr. Zaius', '0.5766494709', '2', '10', '0', '0', '10'], ['Shannon', '0.05616907896', '1', '17', '1', '1', '17'], ['Remington', '0.6403136354', '1', '13', '0', '0', '9'], ['Jonathin', '0.9405880148', '1', '22', '0', '1', '3'], ['Shannon', '0.5887047016', '2', '35', '1', '0', '29'], ['Philmore', '0.4125054487', '3', '17', '1', '1', '22'], ['Dr. Zaius', '0.5579185392', '1', '49', '0', '1', '18'], ['Remington', '0.2481448723', '3', '35', '1', '0', '29'], ['Briane', '0.03526903161', '3', '33', '0', '1', '21'], ['Remington', '0.183295595', '2', '51', '1', '1', '26'], ['Remington', '0.131872737', '1', '46', '0', '1', '8'], ['Nicole', '0.05291876734', '1', '32', '0', '1', '16'], ['Briane', '0.2554970206', '1', '37', '0', '1', '13'], ['Remington', '0.3511038931', '2', '18', '1', '0', '0'], ['Briane', '0.4865765767', '1', '7', '1', '1', '22'], ['Jonathin', '0.95405682', '3', '55', '0', '0', '3'], ['Philmore', '0.4016989359', '2', '5', '0', '1', '2'], ['Nicole', '0.06595761062', '3', '39', '1', '0', '1'], ['Philmore', '0.3142498328', '2', '31', '1', '1', '16'], ['Remington', '0.1155758924', '1', '46', '0', '1', '21'], ['Dr. Zaius', '0.2521189706', '3', '53', '0', '1', '16'], ['Dr. Zaius', '0.636603515', '3', '49', '0', '0', '1'], ['Dr. Zaius', '0.01133582003', '1', '16', '1', '0', '11'], ['Briane', '0.7210196106', '3', '31', '0', '1', '28'], ['Jonathin', '0.3093092182', '1', '21', '1', '0', '14'], ['Jonathin', '0.6348215558', '1', '26', '0', '0', '7'], ['Dr. Zaius', '0.1121745444', '1', '26', '0', '0', '3'], ['Dr. Zaius', '0.6496471607', '2', '2', '1', '1', '12'], ['Jonathin', '0.2809319171', '3', '22', '0', '0', '7'], ['Remington', '0.1708098094', '2', '33', '0', '0', '14'], ['Shannon', '0.6270306906', '1', '40', '0', '0', '7'], ['Remington', '0.2588281548', '2', '48', '1', '1', '7'], ['Philmore', '0.5993923541', '1', '27', '0', '1', '19'], ['Nicole', '0.6525369743', '2', '59', '1', '0', '10'], ['Shannon', '0.1542583961', '3', '4', '1', '0', '14'], ['Briane', '0.2403252234', '1', '56', '1', '1', '4'], ['Philmore', '0.8525255864', '2', '10', '0', '0', '19'], ['Dr. Zaius', '0.5030923372', '2', '36', '1', '1', '30'], ['Nicole', '0.05532913517', '3', '54', '0', '1', '16'], ['Shannon', '0.007404109822', '3', '26', '1', '1', '24'], ['Shannon', '0.8696298717', '2', '29', '1', '0', '10'], ['Nicole', '0.3774453336', '3', '11', '0', '1', '13'], ['Briane', '0.5566452661', '1', '11', '0', '0', '12'], ['Remington', '0.9652189511', '1', '12', '0', '0', '15'], ['Briane', '0.7354605258', '1', '30', '0', '0', '17'], ['Nicole', '0.3936599843', '1', '13', '0', '0', '19'], ['Nicole', '0.3735063291', '2', '10', '0', '0', '17'], ['Shannon', '0.318677706', '3', '18', '1', '1', '10'], ['Shannon', '0.1893681636', '2', '7', '1', '0', '23'], ['Nicole', '0.7734921951', '3', '19', '0', '1', '25'], ['Philmore', '0.3392911297', '1', '46', '1', '0', '15'], ['Philmore', '0.7800012185', '2', '9', '0', '0', '21'], ['Jonathin', '0.7075850711', '1', '1', '0', '0', '21'], ['Philmore', '0.0734305551', '3', '37', '0', '0', '3'], ['Briane', '0.5668633912', '1', '49', '0', '0', '21'], ['Dr. Zaius', '0.6524466919', '3', '43', '0', '1', '26'], ['Remington', '0.0637346422', '2', '35', '1', '1', '6'], ['Shannon', '0.8796244681', '2', '39', '0', '1', '27'], ['Briane', '0.8694045684', '1', '17', '0', '1', '12'], ['Jonathin', '0.287174316', '1', '44', '0', '0', '16'], ['Remington', '0.3159583109', '1', '16', '1', '0', '28'], ['Briane', '0.4387758301', '3', '17', '1', '0', '19'], ['Dr. Zaius', '0.5243223604', '2', '15', '0', '1', '10'], ['Philmore', '0.8369936986', '3', '59', '1', '0', '2'], ['Briane', '0.9786252702', '2', '45', '0', '0', '30'], ['Dr. Zaius', '0.2019536284', '3', '11', '1', '1', '19'], ['Briane', '0.9765790175', '2', '2', '1', '1', '21'], ['Jonathin', '0.563734397', '2', '31', '1', '0', '20'], ['Nicole', '0.6024102866', '1', '32', '1', '0', '23'], ['Remington', '0.669423385', '2', '18', '0', '1', '25'], ['Jonathin', '0.7467286462', '1', '55', '0', '1', '13'], ['Philmore', '0.6952428999', '3', '3', '1', '0', '9'], ['Dr. Zaius', '0.1085952276', '2', '32', '1', '1', '18'], ['Dr. Zaius', '0.2419663934', '3', '49', '0', '1', '2'], ['Philmore', '0.63414829', '3', '60', '1', '0', '25'], ['Shannon', '0.9735159122', '2', '8', '0', '0', '24'], ['Remington', '0.001770658461', '1', '51', '0', '1', '10'], ['Shannon', '0.007796369538', '3', '8', '0', '0', '29'], ['Briane', '0.2873924201', '1', '45', '1', '0', '0'], ['Briane', '0.5872377385', '2', '38', '0', '1', '11'], ['Nicole', '0.01968339462', '1', '38', '1', '1', '6'], ['Jonathin', '0.5240639793', '3', '31', '0', '1', '8'], ['Dr. Zaius', '0.3512964765', '3', '41', '1', '1', '9'], ['Shannon', '0.1399976995', '3', '54', '0', '1', '12'], ['Dr. Zaius', '0.8697970386', '1', '14', '1', '0', '8'], ['Jonathin', '0.6880725511', '1', '29', '0', '0', '8'], ['Nicole', '0.6943997201', '1', '41', '0', '0', '1'], ['Briane', '0.669720541', '3', '20', '0', '1', '28'], ['Nicole', '0.4492023034', '3', '19', '1', '1', '7'], ['Philmore', '0.735711158', '1', '60', '0', '0', '6'], ['Philmore', '0.6704533799', '1', '26', '0', '1', '11'], ['Dr. Zaius', '0.505351599', '1', '37', '1', '1', '22'], ['Nicole', '0.3478343324', '1', '17', '1', '1', '2'], ['Nicole', '0.2532438137', '3', '30', '0', '0', '27'], ['Shannon', '0.9742251904', '1', '34', '0', '1', '18'], ['Briane', '0.9235954441', '2', '15', '0', '0', '29'], ['Shannon', '0.494524705', '2', '40', '0', '1', '13'], ['Shannon', '0.8434766187', '3', '30', '1', '0', '10'], ['Philmore', '0.414506979', '2', '51', '1', '0', '15'], ['Shannon', '0.1515150168', '2', '49', '0', '0', '23'], ['Briane', '0.5212361634', '3', '54', '1', '1', '19'], ['Jonathin', '0.748457424', '1', '14', '0', '1', '20'], ['Remington', '0.8461769964', '2', '10', '0', '1', '4'], ['Dr. Zaius', '0.2500559823', '2', '37', '0', '0', '18'], ['Dr. Zaius', '0.7928978312', '3', '56', '0', '1', '26'], ['Jonathin', '0.298245368', '3', '47', '1', '1', '30'], ['Jonathin', '0.5783640126', '3', '30', '0', '1', '17'], ['Briane', '0.8090686854', '2', '59', '0', '0', '22'], ['Remington', '0.07857998366', '2', '21', '0', '1', '2'], ['Philmore', '0.5289202336', '2', '17', '0', '0', '12'], ['Remington', '0.8072058159', '3', '37', '1', '0', '6'], ['Nicole', '0.1861582902', '3', '54', '1', '0', '2'], ['Shannon', '0.5243168184', '3', '14', '0', '1', '12'], ['Nicole', '0.6928850973', '1', '33', '1', '0', '7'], ['Philmore', '0.009389828084', '3', '54', '1', '0', '0'], ['Shannon', '0.2297008593', '3', '20', '1', '1', '21'], ['Nicole', '0.928706625', '3', '33', '1', '1', '25'], ['Philmore', '0.6706472857', '3', '48', '0', '1', '8'], ['Dr. Zaius', '0.7766086023', '3', '53', '0', '1', '7'], ['Jonathin', '0.04062161981', '2', '59', '0', '1', '3'], ['Shannon', '0.3194885301', '1', '23', '1', '1', '17'], ['Dr. Zaius', '0.4856472147', '2', '53', '0', '1', '3'], ['Dr. Zaius', '0.271259085', '3', '45', '0', '0', '9'], ['Jonathin', '0.3480391269', '1', '34', '0', '1', '17'], ['Remington', '0.4826160179', '1', '33', '0', '1', '26'], ['Briane', '0.2223355995', '2', '34', '0', '1', '18'], ['Jonathin', '0.3401587754', '1', '42', '0', '1', '23'], ['Dr. Zaius', '0.5006368066', '2', '40', '0', '0', '8'], ['Briane', '0.4049168339', '1', '7', '1', '1', '6'], ['Briane', '0.652583971', '3', '11', '1', '0', '21'], ['Nicole', '0.3357481975', '1', '20', '1', '1', '23'], ['Jonathin', '0.9086312624', '3', '2', '0', '0', '3'], ['Remington', '0.5572500362', '1', '20', '0', '0', '7'], ['Nicole', '0.7866450115', '3', '31', '1', '0', '25'], ['Briane', '0.8631937957', '1', '39', '1', '0', '17'], ['Shannon', '0.01046465941', '1', '27', '0', '1', '25'], ['Nicole', '0.5671407572', '2', '27', '1', '1', '26'], ['Briane', '0.3822630544', '1', '5', '1', '1', '30'], ['Philmore', '0.99700092', '1', '19', '1', '0', '13'], ['Philmore', '0.4838561129', '3', '7', '1', '1', '11'], ['Nicole', '0.1081937102', '2', '53', '0', '1', '30'], ['Remington', '0.1691668833', '1', '24', '0', '0', '17'], ['Jonathin', '0.9921917261', '3', '28', '1', '0', '18'], ['Remington', '0.4726049001', '1', '29', '1', '0', '24'], ['Shannon', '0.7681567787', '2', '22', '1', '0', '30'], ['Remington', '0.1760607944', '2', '54', '1', '0', '14'], ['Dr. Zaius', '0.1527984728', '2', '40', '1', '1', '16'], ['Dr. Zaius', '0.05854605672', '3', '49', '1', '0', '11'], ['Shannon', '0.2483263539', '2', '24', '0', '1', '3'], ['Philmore', '0.08336192259', '3', '43', '0', '0', '7'], ['Shannon', '0.3143675212', '2', '37', '0', '1', '17'], ['Philmore', '0.07231716017', '2', '54', '0', '1', '5'], ['Philmore', '0.4940564023', '2', '41', '1', '1', '28'], ['Jonathin', '0.967315042', '3', '6', '0', '1', '12'], ['Philmore', '0.3473650986', '1', '52', '1', '1', '19'], ['Nicole', '0.6071019758', '1', '41', '1', '0', '29'], ['Dr. Zaius', '0.2594534547', '2', '53', '0', '0', '26'], ['Jonathin', '0.1497487083', '3', '51', '0', '1', '24'], ['Remington', '0.1948208632', '2', '13', '1', '1', '7'], ['Philmore', '0.2762755008', '3', '9', '1', '0', '14'], ['Shannon', '0.1689102808', '1', '16', '1', '1', '17'], ['Jonathin', '0.122619471', '2', '10', '0', '1', '2']]\n"
          ],
          "name": "stdout"
        }
      ]
    },
    {
      "cell_type": "code",
      "metadata": {
        "id": "h9D0zM984N3v"
      },
      "source": [
        "df = pd.DataFrame.from_records(rows[1:],columns=rows[0])"
      ],
      "execution_count": null,
      "outputs": []
    },
    {
      "cell_type": "code",
      "metadata": {
        "id": "VqbiD7CF1mcX"
      },
      "source": [
        "#df"
      ],
      "execution_count": null,
      "outputs": []
    },
    {
      "cell_type": "code",
      "metadata": {
        "id": "lovQ4vUr2n7z"
      },
      "source": [
        "# df['CSAT_Score'] = pd.to_numeric(df['CSAT_Score'])\n",
        "# df['Customer_Effort_Score'] = pd.to_numeric(df['Customer_Effort_Score'])\n",
        "# df['Call_Time'] = pd.to_numeric(df['Call_Time'])\n",
        "# df['First_call_resolution'] = pd.to_numeric(df['First_call_resolution'])\n",
        "# df['Assigned_case'] = pd.to_numeric(df['Assigned_case'])"
      ],
      "execution_count": null,
      "outputs": []
    },
    {
      "cell_type": "code",
      "metadata": {
        "id": "VUf9bcxtFOIt"
      },
      "source": [
        "df.to_csv (r'dataframe.csv', index = False, header=True)"
      ],
      "execution_count": null,
      "outputs": []
    },
    {
      "cell_type": "code",
      "metadata": {
        "id": "mm0HdyEr3Vvn"
      },
      "source": [
        "#df.info()"
      ],
      "execution_count": null,
      "outputs": []
    },
    {
      "cell_type": "code",
      "metadata": {
        "id": "XTF1xllg47t0"
      },
      "source": [
        "#!pip install geckoboard.py"
      ],
      "execution_count": null,
      "outputs": []
    },
    {
      "cell_type": "code",
      "metadata": {
        "id": "06tBkY2Y53bC"
      },
      "source": [
        "import geckoboard as gb"
      ],
      "execution_count": null,
      "outputs": []
    },
    {
      "cell_type": "code",
      "metadata": {
        "colab": {
          "base_uri": "https://localhost:8080/"
        },
        "id": "zxH5Z2y05LM8",
        "outputId": "a32a2aff-fc69-4b2e-9338-94ca1b5f02c0"
      },
      "source": [
        "gbClient = gb.client('7aa30ee6b17cadabc84ca34499a8ebd5')\n",
        "gbClient.ping()"
      ],
      "execution_count": null,
      "outputs": [
        {
          "output_type": "execute_result",
          "data": {
            "text/plain": [
              "True"
            ]
          },
          "metadata": {
            "tags": []
          },
          "execution_count": 13
        }
      ]
    },
    {
      "cell_type": "code",
      "metadata": {
        "colab": {
          "base_uri": "https://localhost:8080/"
        },
        "id": "glQoIoAHuQPy",
        "outputId": "4a4839a2-2655-4ca3-dfcc-c692d41b34ed"
      },
      "source": [
        "# dataset =  client.datasets.find_or_create(\n",
        "#   'environmentreadings', {\n",
        "#     'temperature' : {'type':'number','name':'Temperature','optional':False},\n",
        "#     'pressure' : {'type':'number','name':'Pressure','optional':False},\n",
        "#     'humidity' : {'type':'number','name':'Humidity','optional':False},\n",
        "#     'air-quality' : {'type':'number','name':'Air Quality','optional':True},\n",
        "#     'timestamp': { 'type': 'datetime', 'name': 'Time' }},\n",
        "#     ['timestamp']) # This sets timestamp as the primary key\n",
        "\n",
        "# print (\"Dataset successfully created\")"
      ],
      "execution_count": null,
      "outputs": [
        {
          "output_type": "stream",
          "text": [
            "Dataset successfully created\n"
          ],
          "name": "stdout"
        }
      ]
    },
    {
      "cell_type": "code",
      "metadata": {
        "id": "5OjWt1bEK6Xf"
      },
      "source": [
        "dataset =  client.datasets.find_or_create(\n",
        "  'environmentreadings', {\n",
        "    'temperature' : {'type':'number','name':'Temperature','optional':False},\n",
        "    'pressure' : {'type':'number','name':'Pressure','optional':False},\n",
        "    'humidity' : {'type':'number','name':'Humidity','optional':False},\n",
        "    'air-quality' : {'type':'number','name':'Air Quality','optional':True},\n",
        "    'timestamp': { 'type': 'datetime', 'name': 'Time' }},\n",
        "    ['timestamp']) # This sets timestamp as the primary key"
      ],
      "execution_count": null,
      "outputs": []
    },
    {
      "cell_type": "markdown",
      "metadata": {
        "id": "46mei4Y9BhYS"
      },
      "source": [
        "### performance.by_branch"
      ]
    },
    {
      "cell_type": "code",
      "metadata": {
        "id": "-X9soYdtDPb8"
      },
      "source": [
        "dataset = client.datasets.find_or_create"
      ],
      "execution_count": null,
      "outputs": []
    },
    {
      "cell_type": "code",
      "metadata": {
        "colab": {
          "base_uri": "https://localhost:8080/",
          "height": 443
        },
        "id": "Dei_vytqEkds",
        "outputId": "73764f3c-c3e0-48b0-d39e-a4f43db3ce9e"
      },
      "source": [
        "dataset =  client.datasets.find_or_create(\n",
        "  'performance.by_branch', {\n",
        "      \"fields\":{\n",
        "        \"string\":{\n",
        "          \"type\": \"string\",\n",
        "          \"name\": \"City Name\"\n",
        "          \"optional\": true\n",
        "        }\n",
        "         \"string\":{\n",
        "          \"type\": \"string\",\n",
        "          \"name\": \"Country Code\"\n",
        "          \"optional\": true\n",
        "        }\n",
        "         \"string\":{\n",
        "          \"type\": \"string\",\n",
        "          \"name\": \"String\"\n",
        "          \"optional\": true\n",
        "        }\n",
        "      }\n",
        "      \n",
        "dataset.post([\n",
        "  { 'timestamp': '2018-01-03T12:00:00Z', 'amount': 312 },\n",
        "  { 'timestamp': '2018-01-04T12:00:00Z', 'amount': 665 },\n",
        "  { 'timestamp': '2018-01-05T12:00:00Z', 'amount': 453 }\n",
        "], 'timestamp')"
      ],
      "execution_count": null,
      "outputs": [
        {
          "output_type": "error",
          "ename": "Exception",
          "evalue": "ignored",
          "traceback": [
            "\u001b[0;31m---------------------------------------------------------------------------\u001b[0m",
            "\u001b[0;31mException\u001b[0m                                 Traceback (most recent call last)",
            "\u001b[0;32m<ipython-input-32-ac2e822dc1d4>\u001b[0m in \u001b[0;36m<module>\u001b[0;34m()\u001b[0m\n\u001b[1;32m      4\u001b[0m     \u001b[0;34m'country_code'\u001b[0m \u001b[0;34m:\u001b[0m \u001b[0;34m{\u001b[0m\u001b[0;34m'type'\u001b[0m\u001b[0;34m:\u001b[0m\u001b[0;34m'name'\u001b[0m\u001b[0;34m,\u001b[0m\u001b[0;34m'country_code'\u001b[0m\u001b[0;34m:\u001b[0m\u001b[0;34m'country_code'\u001b[0m\u001b[0;34m,\u001b[0m\u001b[0;34m'optional'\u001b[0m\u001b[0;34m:\u001b[0m\u001b[0;32mFalse\u001b[0m\u001b[0;34m}\u001b[0m\u001b[0;34m,\u001b[0m\u001b[0;34m\u001b[0m\u001b[0;34m\u001b[0m\u001b[0m\n\u001b[1;32m      5\u001b[0m     'size' : {'type':'number','name':'size','optional':False}},\n\u001b[0;32m----> 6\u001b[0;31m     ['city_name']) # This sets timestamp as the primary key\n\u001b[0m",
            "\u001b[0;32m/usr/local/lib/python3.7/dist-packages/geckoboard/datasets_client.py\u001b[0m in \u001b[0;36mfind_or_create\u001b[0;34m(self, dataset_id, fields, unique_by)\u001b[0m\n\u001b[1;32m     59\u001b[0m             \u001b[0mbody\u001b[0m\u001b[0;34m[\u001b[0m\u001b[0;34m'unique_by'\u001b[0m\u001b[0;34m]\u001b[0m \u001b[0;34m=\u001b[0m \u001b[0munique_by\u001b[0m\u001b[0;34m\u001b[0m\u001b[0;34m\u001b[0m\u001b[0m\n\u001b[1;32m     60\u001b[0m \u001b[0;34m\u001b[0m\u001b[0m\n\u001b[0;32m---> 61\u001b[0;31m         \u001b[0mself\u001b[0m\u001b[0;34m.\u001b[0m\u001b[0m__connection\u001b[0m\u001b[0;34m.\u001b[0m\u001b[0mput\u001b[0m\u001b[0;34m(\u001b[0m\u001b[0;34m'/datasets/'\u001b[0m \u001b[0;34m+\u001b[0m \u001b[0mdataset_id\u001b[0m\u001b[0;34m,\u001b[0m \u001b[0mbody\u001b[0m\u001b[0;34m)\u001b[0m\u001b[0;34m\u001b[0m\u001b[0;34m\u001b[0m\u001b[0m\n\u001b[0m\u001b[1;32m     62\u001b[0m \u001b[0;34m\u001b[0m\u001b[0m\n\u001b[1;32m     63\u001b[0m         \u001b[0;32mreturn\u001b[0m \u001b[0mDataset\u001b[0m\u001b[0;34m(\u001b[0m\u001b[0mdataset_id\u001b[0m\u001b[0;34m,\u001b[0m \u001b[0mself\u001b[0m\u001b[0;34m.\u001b[0m\u001b[0m__connection\u001b[0m\u001b[0;34m)\u001b[0m\u001b[0;34m\u001b[0m\u001b[0;34m\u001b[0m\u001b[0m\n",
            "\u001b[0;32m/usr/local/lib/python3.7/dist-packages/geckoboard/connection.py\u001b[0m in \u001b[0;36mput\u001b[0;34m(self, path, body)\u001b[0m\n\u001b[1;32m     29\u001b[0m     \u001b[0;32mdef\u001b[0m \u001b[0mput\u001b[0m\u001b[0;34m(\u001b[0m\u001b[0mself\u001b[0m\u001b[0;34m,\u001b[0m \u001b[0mpath\u001b[0m\u001b[0;34m,\u001b[0m \u001b[0mbody\u001b[0m\u001b[0;34m)\u001b[0m\u001b[0;34m:\u001b[0m\u001b[0;34m\u001b[0m\u001b[0;34m\u001b[0m\u001b[0m\n\u001b[1;32m     30\u001b[0m         \u001b[0mresponse\u001b[0m \u001b[0;34m=\u001b[0m \u001b[0mapi\u001b[0m\u001b[0;34m.\u001b[0m\u001b[0mput\u001b[0m\u001b[0;34m(\u001b[0m\u001b[0mpath\u001b[0m\u001b[0;34m,\u001b[0m \u001b[0mbody\u001b[0m\u001b[0;34m,\u001b[0m \u001b[0mself\u001b[0m\u001b[0;34m.\u001b[0m\u001b[0mapi_key\u001b[0m\u001b[0;34m,\u001b[0m \u001b[0mself\u001b[0m\u001b[0;34m.\u001b[0m\u001b[0mtimeout\u001b[0m\u001b[0;34m)\u001b[0m\u001b[0;34m\u001b[0m\u001b[0;34m\u001b[0m\u001b[0m\n\u001b[0;32m---> 31\u001b[0;31m         \u001b[0;32mreturn\u001b[0m \u001b[0mself\u001b[0m\u001b[0;34m.\u001b[0m\u001b[0mhandle_response\u001b[0m\u001b[0;34m(\u001b[0m\u001b[0mresponse\u001b[0m\u001b[0;34m)\u001b[0m\u001b[0;34m\u001b[0m\u001b[0;34m\u001b[0m\u001b[0m\n\u001b[0m\u001b[1;32m     32\u001b[0m \u001b[0;34m\u001b[0m\u001b[0m\n\u001b[1;32m     33\u001b[0m     \u001b[0;34m@\u001b[0m\u001b[0mstaticmethod\u001b[0m\u001b[0;34m\u001b[0m\u001b[0;34m\u001b[0m\u001b[0m\n",
            "\u001b[0;32m/usr/local/lib/python3.7/dist-packages/geckoboard/connection.py\u001b[0m in \u001b[0;36mhandle_response\u001b[0;34m(response)\u001b[0m\n\u001b[1;32m     34\u001b[0m     \u001b[0;32mdef\u001b[0m \u001b[0mhandle_response\u001b[0m\u001b[0;34m(\u001b[0m\u001b[0mresponse\u001b[0m\u001b[0;34m)\u001b[0m\u001b[0;34m:\u001b[0m\u001b[0;34m\u001b[0m\u001b[0;34m\u001b[0m\u001b[0m\n\u001b[1;32m     35\u001b[0m         \u001b[0;32mif\u001b[0m \u001b[0mresponse\u001b[0m\u001b[0;34m.\u001b[0m\u001b[0mstatus_code\u001b[0m \u001b[0;34m<\u001b[0m \u001b[0;36m200\u001b[0m \u001b[0;32mor\u001b[0m \u001b[0mresponse\u001b[0m\u001b[0;34m.\u001b[0m\u001b[0mstatus_code\u001b[0m \u001b[0;34m>=\u001b[0m \u001b[0;36m300\u001b[0m\u001b[0;34m:\u001b[0m\u001b[0;34m\u001b[0m\u001b[0;34m\u001b[0m\u001b[0m\n\u001b[0;32m---> 36\u001b[0;31m             \u001b[0;32mraise\u001b[0m \u001b[0mException\u001b[0m\u001b[0;34m(\u001b[0m\u001b[0mresponse_handler\u001b[0m\u001b[0;34m.\u001b[0m\u001b[0mget_error_message\u001b[0m\u001b[0;34m(\u001b[0m\u001b[0mresponse\u001b[0m\u001b[0;34m)\u001b[0m\u001b[0;34m)\u001b[0m\u001b[0;34m\u001b[0m\u001b[0;34m\u001b[0m\u001b[0m\n\u001b[0m\u001b[1;32m     37\u001b[0m \u001b[0;34m\u001b[0m\u001b[0m\n\u001b[1;32m     38\u001b[0m         \u001b[0;32mreturn\u001b[0m \u001b[0mresponse\u001b[0m\u001b[0;34m\u001b[0m\u001b[0;34m\u001b[0m\u001b[0m\n",
            "\u001b[0;31mException\u001b[0m: Invalid field type: \"name\""
          ]
        }
      ]
    },
    {
      "cell_type": "code",
      "metadata": {
        "id": "BLRpvofWX4UQ"
      },
      "source": [
        "'country_code' : {'type':'string','name':'country_code','optional':False},\n",
        "    'size' : {'type':'number','name':'size','optional':False},\n",
        "    'city_name' : {'type':'string','name':'city_name','optional':True},\n",
        "    'country_code': { 'type': 'string', 'name': 'city_name', 'optional':True},\n",
        "    'region_code': { 'type': 'string', 'name': 'region_code' }\n",
        "    "
      ],
      "execution_count": null,
      "outputs": []
    },
    {
      "cell_type": "code",
      "metadata": {
        "id": "0My5XZAaY5bl"
      },
      "source": [
        "{\n",
        "  \"points\": {\n",
        "    \"point\": [{\n",
        "      \"city\": {\n",
        "        \"city_name\": \"San Francisco\",\n",
        "        \"country_code\": \"US\",\n",
        "        \"region_code\": \"CA\"\n",
        "      }\n",
        "    }]\n",
        "  }\n",
        "}]"
      ],
      "execution_count": null,
      "outputs": []
    },
    {
      "cell_type": "code",
      "metadata": {
        "colab": {
          "base_uri": "https://localhost:8080/"
        },
        "id": "vGmEy6kiRY5M",
        "outputId": "9490a69b-e98a-467f-e1ec-18eb5a2d06a9"
      },
      "source": [
        "dataset =  client.datasets.find_or_create(\n",
        "  'points', {\n",
        "    'city_name' : {'type':'string','name':'City name'},\n",
        "    'country_code' : {'type':'string','name':'Country code'},\n",
        "    'region_code' : {'type':'string','name':'Region code'}\n",
        "    }\n",
        ")\n",
        "print(\"Dataset successfully created\")"
      ],
      "execution_count": null,
      "outputs": [
        {
          "output_type": "stream",
          "text": [
            "Dataset successfully created\n"
          ],
          "name": "stdout"
        }
      ]
    },
    {
      "cell_type": "code",
      "metadata": {
        "colab": {
          "base_uri": "https://localhost:8080/",
          "height": 460
        },
        "id": "rBFNME8wQzXK",
        "outputId": "51064085-bfee-49f7-a42a-fb23d47da774"
      },
      "source": [
        "dataset.post([\n",
        "      {\n",
        "  \"points\": {\n",
        "    \"point\": [{\n",
        "      \"city\": {\n",
        "        \"city_name\": \"San Francisco\",\n",
        "        \"country_code\": \"US\",\n",
        "        \"region_code\": \"CA\"\n",
        "      }\n",
        "    }]\n",
        "  }\n",
        "}\n",
        "    ])"
      ],
      "execution_count": null,
      "outputs": [
        {
          "output_type": "error",
          "ename": "Exception",
          "evalue": "ignored",
          "traceback": [
            "\u001b[0;31m---------------------------------------------------------------------------\u001b[0m",
            "\u001b[0;31mException\u001b[0m                                 Traceback (most recent call last)",
            "\u001b[0;32m<ipython-input-57-d37e5c703c61>\u001b[0m in \u001b[0;36m<module>\u001b[0;34m()\u001b[0m\n\u001b[1;32m      6\u001b[0m         \u001b[0;34m\"city_name\"\u001b[0m\u001b[0;34m:\u001b[0m \u001b[0;34m\"San Francisco\"\u001b[0m\u001b[0;34m,\u001b[0m\u001b[0;34m\u001b[0m\u001b[0;34m\u001b[0m\u001b[0m\n\u001b[1;32m      7\u001b[0m         \u001b[0;34m\"country_code\"\u001b[0m\u001b[0;34m:\u001b[0m \u001b[0;34m\"US\"\u001b[0m\u001b[0;34m,\u001b[0m\u001b[0;34m\u001b[0m\u001b[0;34m\u001b[0m\u001b[0m\n\u001b[0;32m----> 8\u001b[0;31m         \u001b[0;34m\"region_code\"\u001b[0m\u001b[0;34m:\u001b[0m \u001b[0;34m\"CA\"\u001b[0m\u001b[0;34m\u001b[0m\u001b[0;34m\u001b[0m\u001b[0m\n\u001b[0m\u001b[1;32m      9\u001b[0m       }\n\u001b[1;32m     10\u001b[0m     }]\n",
            "\u001b[0;32m/usr/local/lib/python3.7/dist-packages/geckoboard/dataset.py\u001b[0m in \u001b[0;36mpost\u001b[0;34m(self, items, delete_by)\u001b[0m\n\u001b[1;32m     77\u001b[0m             \u001b[0mbody\u001b[0m\u001b[0;34m[\u001b[0m\u001b[0;34m'delete_by'\u001b[0m\u001b[0;34m]\u001b[0m \u001b[0;34m=\u001b[0m \u001b[0mdelete_by\u001b[0m\u001b[0;34m\u001b[0m\u001b[0;34m\u001b[0m\u001b[0m\n\u001b[1;32m     78\u001b[0m \u001b[0;34m\u001b[0m\u001b[0m\n\u001b[0;32m---> 79\u001b[0;31m         \u001b[0mself\u001b[0m\u001b[0;34m.\u001b[0m\u001b[0m__connection\u001b[0m\u001b[0;34m.\u001b[0m\u001b[0mpost\u001b[0m\u001b[0;34m(\u001b[0m\u001b[0;34m'/datasets/'\u001b[0m \u001b[0;34m+\u001b[0m \u001b[0mself\u001b[0m\u001b[0;34m.\u001b[0m\u001b[0m__id\u001b[0m \u001b[0;34m+\u001b[0m \u001b[0;34m'/data'\u001b[0m\u001b[0;34m,\u001b[0m \u001b[0mbody\u001b[0m\u001b[0;34m)\u001b[0m\u001b[0;34m\u001b[0m\u001b[0;34m\u001b[0m\u001b[0m\n\u001b[0m\u001b[1;32m     80\u001b[0m \u001b[0;34m\u001b[0m\u001b[0m\n\u001b[1;32m     81\u001b[0m         \u001b[0;32mreturn\u001b[0m \u001b[0;32mTrue\u001b[0m\u001b[0;34m\u001b[0m\u001b[0;34m\u001b[0m\u001b[0m\n",
            "\u001b[0;32m/usr/local/lib/python3.7/dist-packages/geckoboard/connection.py\u001b[0m in \u001b[0;36mpost\u001b[0;34m(self, path, body)\u001b[0m\n\u001b[1;32m     25\u001b[0m     \u001b[0;32mdef\u001b[0m \u001b[0mpost\u001b[0m\u001b[0;34m(\u001b[0m\u001b[0mself\u001b[0m\u001b[0;34m,\u001b[0m \u001b[0mpath\u001b[0m\u001b[0;34m,\u001b[0m \u001b[0mbody\u001b[0m\u001b[0;34m)\u001b[0m\u001b[0;34m:\u001b[0m\u001b[0;34m\u001b[0m\u001b[0;34m\u001b[0m\u001b[0m\n\u001b[1;32m     26\u001b[0m         \u001b[0mresponse\u001b[0m \u001b[0;34m=\u001b[0m \u001b[0mapi\u001b[0m\u001b[0;34m.\u001b[0m\u001b[0mpost\u001b[0m\u001b[0;34m(\u001b[0m\u001b[0mpath\u001b[0m\u001b[0;34m,\u001b[0m \u001b[0mbody\u001b[0m\u001b[0;34m,\u001b[0m \u001b[0mself\u001b[0m\u001b[0;34m.\u001b[0m\u001b[0mapi_key\u001b[0m\u001b[0;34m,\u001b[0m \u001b[0mself\u001b[0m\u001b[0;34m.\u001b[0m\u001b[0mtimeout\u001b[0m\u001b[0;34m)\u001b[0m\u001b[0;34m\u001b[0m\u001b[0;34m\u001b[0m\u001b[0m\n\u001b[0;32m---> 27\u001b[0;31m         \u001b[0;32mreturn\u001b[0m \u001b[0mself\u001b[0m\u001b[0;34m.\u001b[0m\u001b[0mhandle_response\u001b[0m\u001b[0;34m(\u001b[0m\u001b[0mresponse\u001b[0m\u001b[0;34m)\u001b[0m\u001b[0;34m\u001b[0m\u001b[0;34m\u001b[0m\u001b[0m\n\u001b[0m\u001b[1;32m     28\u001b[0m \u001b[0;34m\u001b[0m\u001b[0m\n\u001b[1;32m     29\u001b[0m     \u001b[0;32mdef\u001b[0m \u001b[0mput\u001b[0m\u001b[0;34m(\u001b[0m\u001b[0mself\u001b[0m\u001b[0;34m,\u001b[0m \u001b[0mpath\u001b[0m\u001b[0;34m,\u001b[0m \u001b[0mbody\u001b[0m\u001b[0;34m)\u001b[0m\u001b[0;34m:\u001b[0m\u001b[0;34m\u001b[0m\u001b[0;34m\u001b[0m\u001b[0m\n",
            "\u001b[0;32m/usr/local/lib/python3.7/dist-packages/geckoboard/connection.py\u001b[0m in \u001b[0;36mhandle_response\u001b[0;34m(response)\u001b[0m\n\u001b[1;32m     34\u001b[0m     \u001b[0;32mdef\u001b[0m \u001b[0mhandle_response\u001b[0m\u001b[0;34m(\u001b[0m\u001b[0mresponse\u001b[0m\u001b[0;34m)\u001b[0m\u001b[0;34m:\u001b[0m\u001b[0;34m\u001b[0m\u001b[0;34m\u001b[0m\u001b[0m\n\u001b[1;32m     35\u001b[0m         \u001b[0;32mif\u001b[0m \u001b[0mresponse\u001b[0m\u001b[0;34m.\u001b[0m\u001b[0mstatus_code\u001b[0m \u001b[0;34m<\u001b[0m \u001b[0;36m200\u001b[0m \u001b[0;32mor\u001b[0m \u001b[0mresponse\u001b[0m\u001b[0;34m.\u001b[0m\u001b[0mstatus_code\u001b[0m \u001b[0;34m>=\u001b[0m \u001b[0;36m300\u001b[0m\u001b[0;34m:\u001b[0m\u001b[0;34m\u001b[0m\u001b[0;34m\u001b[0m\u001b[0m\n\u001b[0;32m---> 36\u001b[0;31m             \u001b[0;32mraise\u001b[0m \u001b[0mException\u001b[0m\u001b[0;34m(\u001b[0m\u001b[0mresponse_handler\u001b[0m\u001b[0;34m.\u001b[0m\u001b[0mget_error_message\u001b[0m\u001b[0;34m(\u001b[0m\u001b[0mresponse\u001b[0m\u001b[0;34m)\u001b[0m\u001b[0;34m)\u001b[0m\u001b[0;34m\u001b[0m\u001b[0;34m\u001b[0m\u001b[0m\n\u001b[0m\u001b[1;32m     37\u001b[0m \u001b[0;34m\u001b[0m\u001b[0m\n\u001b[1;32m     38\u001b[0m         \u001b[0;32mreturn\u001b[0m \u001b[0mresponse\u001b[0m\u001b[0;34m\u001b[0m\u001b[0;34m\u001b[0m\u001b[0m\n",
            "\u001b[0;31mException\u001b[0m: Field \"points\" is not part of the dataset"
          ]
        }
      ]
    },
    {
      "cell_type": "code",
      "metadata": {
        "colab": {
          "base_uri": "https://localhost:8080/",
          "height": 130
        },
        "id": "wmXuQAeDQJ2D",
        "outputId": "194101c6-4993-4321-dba3-ffc3dad7d8fc"
      },
      "source": [
        "dataset =  client.datasets.find_or_create(\n",
        "  'performance.by_branch', {\n",
        "        \"city\": {\n",
        "          \"city_name\": \"London\",\n",
        "          \"country_code\": \"GB\"\n",
        "        },\n",
        "        \"size\": 10\n",
        "      },\n",
        "      {\n",
        "        \"city\": {\n",
        "          \"city_name\": \"San Francisco\",\n",
        "          \"country_code\": \"US\",\n",
        "          \"region_code\": \"CA\"\n",
        "        }\n",
        "      },\n",
        "      {\n",
        "        \"latitude\": \"22.2670\",\n",
        "        \"longitude\": \"114.1880\",\n",
        "        \"color\": \"d8f709\"\n",
        "      },\n",
        "      {\n",
        "        \"latitude\": \"-33.94336\",\n",
        "        \"longitude\": \"18.896484\",\n",
        "        \"size\": 5\n",
        "      },\n",
        "      {\n",
        "        \"host\": \"geckoboard.com\",\n",
        "        \"color\": \"77dd77\",\n",
        "        \"size\": 6\n",
        "      },\n",
        "      {\n",
        "        \"ip\": \"178.125.193.227\"\n",
        "      }\n"
      ],
      "execution_count": null,
      "outputs": [
        {
          "output_type": "error",
          "ename": "SyntaxError",
          "evalue": "ignored",
          "traceback": [
            "\u001b[0;36m  File \u001b[0;32m\"<ipython-input-33-62c4bba1f3ff>\"\u001b[0;36m, line \u001b[0;32m33\u001b[0m\n\u001b[0;31m    }\u001b[0m\n\u001b[0m     ^\u001b[0m\n\u001b[0;31mSyntaxError\u001b[0m\u001b[0;31m:\u001b[0m unexpected EOF while parsing\n"
          ]
        }
      ]
    },
    {
      "cell_type": "code",
      "metadata": {
        "colab": {
          "base_uri": "https://localhost:8080/",
          "height": 130
        },
        "id": "FRcgfe8uFI89",
        "outputId": "9785153f-1306-4edb-815c-01935fd029e7"
      },
      "source": [
        "dataset =  client.datasets.find_or_create(\n",
        "  'performance.by_branch', {\n",
        "      \"fields\":{\n",
        "        \"string\":{\n",
        "          \"type\": \"string\",\n",
        "          \"name\": \"City Name\"\n",
        "          \"optional\": true\n",
        "        }\n",
        "         \"string\":{\n",
        "          \"type\": \"string\",\n",
        "          \"name\": \"Country Code\"\n",
        "          \"optional\": true\n",
        "        }\n",
        "         \"string\":{\n",
        "          \"type\": \"string\",\n",
        "          \"name\": \"Region Code\"\n",
        "          \"optional\": true\n",
        "        }\n",
        "      }\n",
        "      \n",
        "dataset.post([\n",
        "  { 'timestamp': '2018-01-03T12:00:00Z', 'amount': 312 },\n",
        "  { 'timestamp': '2018-01-04T12:00:00Z', 'amount': 665 },\n",
        "  { 'timestamp': '2018-01-05T12:00:00Z', 'amount': 453 }\n",
        "], 'timestamp')\n",
        "\n",
        "\n",
        "dataset = client.datasets.find_or_create('performance.by_branch', {\n",
        "  \"points\": {\n",
        "    \"point\": [\n",
        "      {\n",
        "        \"city\": {\n",
        "          \"city_name\": \"London\",\n",
        "          \"country_code\": \"GB\"\n",
        "        },\n",
        "        \"size\": 10\n",
        "      },\n",
        "      {\n",
        "        \"city\": {\n",
        "          \"city_name\": \"San Francisco\",\n",
        "          \"country_code\": \"US\",\n",
        "          \"region_code\": \"CA\"\n",
        "        }\n",
        "      },\n",
        "      {\n",
        "        \"latitude\": \"22.2670\",\n",
        "        \"longitude\": \"114.1880\",\n",
        "        \"color\": \"d8f709\"\n",
        "      },\n",
        "      {\n",
        "        \"latitude\": \"-33.94336\",\n",
        "        \"longitude\": \"18.896484\",\n",
        "        \"size\": 5\n",
        "      },\n",
        "      {\n",
        "        \"host\": \"geckoboard.com\",\n",
        "        \"color\": \"77dd77\",\n",
        "        \"size\": 6\n",
        "      },\n",
        "      {\n",
        "        \"ip\": \"178.125.193.227\"\n",
        "      }\n",
        "    ]\n",
        "  }\n",
        "}\n",
        "\n",
        "}, ['payload'])"
      ],
      "execution_count": null,
      "outputs": [
        {
          "output_type": "error",
          "ename": "SyntaxError",
          "evalue": "ignored",
          "traceback": [
            "\u001b[0;36m  File \u001b[0;32m\"<ipython-input-28-faeba41cdeb6>\"\u001b[0;36m, line \u001b[0;32m40\u001b[0m\n\u001b[0;31m    }, ['payload'])\u001b[0m\n\u001b[0m    ^\u001b[0m\n\u001b[0;31mSyntaxError\u001b[0m\u001b[0;31m:\u001b[0m invalid syntax\n"
          ]
        }
      ]
    },
    {
      "cell_type": "code",
      "metadata": {
        "id": "jp4Mq9qRDhZI"
      },
      "source": [
        "dataset = client.datasets.find_or_create('performance.by_branch', {\n",
        "  'points': { 'type': 'number', 'name': 'Amount', 'optional': False },\n",
        "  'timestamp': { 'type': 'datetime', 'name': 'Time' },\n",
        "\n",
        "}, ['timestamp'])"
      ],
      "execution_count": null,
      "outputs": []
    },
    {
      "cell_type": "code",
      "metadata": {
        "id": "AAv8gATHbnKz"
      },
      "source": [
        "dataset = client.datasets.find_or_create('sales.by_day', {\n",
        "  'amount': { 'type': 'number', 'name': 'Amount', 'optional': False },\n",
        "  'timestamp': { 'type': 'datetime', 'name': 'Time' }\n",
        "}, ['timestamp'])"
      ],
      "execution_count": null,
      "outputs": []
    },
    {
      "cell_type": "code",
      "metadata": {
        "id": "AxDsX8-PyxWH"
      },
      "source": [
        "dataset = client.datasets.find_or_create('sales.by_xyz', {\n",
        "  'value': {'type': 'number', 'name': 'Value'},\n",
        "  'text': {'type': 'string', 'name' : 'Text'}          \n",
        "})"
      ],
      "execution_count": null,
      "outputs": []
    },
    {
      "cell_type": "code",
      "metadata": {
        "colab": {
          "base_uri": "https://localhost:8080/"
        },
        "id": "0aiyu_OowFt_",
        "outputId": "6a511f8b-1f5f-4fdc-d4b0-2910a3470db5"
      },
      "source": [
        "dataset.post([\n",
        "  { 'value': 5723, 'text': 'Total paying customers' }])"
      ],
      "execution_count": null,
      "outputs": [
        {
          "output_type": "execute_result",
          "data": {
            "text/plain": [
              "True"
            ]
          },
          "metadata": {
            "tags": []
          },
          "execution_count": 70
        }
      ]
    },
    {
      "cell_type": "markdown",
      "metadata": {
        "id": "zqhIg5jnBs8O"
      },
      "source": [
        "### performance.by_teamgroup"
      ]
    },
    {
      "cell_type": "markdown",
      "metadata": {
        "id": "5KC6wK7rB5Zk"
      },
      "source": [
        "### performance.by_individuals"
      ]
    },
    {
      "cell_type": "code",
      "metadata": {
        "id": "zQcZ1BmMBnq0"
      },
      "source": [
        "#### "
      ],
      "execution_count": null,
      "outputs": []
    }
  ]
}